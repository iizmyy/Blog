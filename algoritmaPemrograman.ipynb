{
  "nbformat": 4,
  "nbformat_minor": 0,
  "metadata": {
    "colab": {
      "name": "algoritmaPemrograman.ipynb",
      "provenance": [],
      "authorship_tag": "ABX9TyPvz8cCpqP4652HIeqjkX/C",
      "include_colab_link": true
    },
    "kernelspec": {
      "name": "python3",
      "display_name": "Python 3"
    },
    "language_info": {
      "name": "python"
    }
  },
  "cells": [
    {
      "cell_type": "markdown",
      "metadata": {
        "id": "view-in-github",
        "colab_type": "text"
      },
      "source": [
        "<a href=\"https://colab.research.google.com/github/iizmyy/blog/blob/master/algoritmaPemrograman.ipynb\" target=\"_parent\"><img src=\"https://colab.research.google.com/assets/colab-badge.svg\" alt=\"Open In Colab\"/></a>"
      ]
    },
    {
      "cell_type": "code",
      "metadata": {
        "colab": {
          "base_uri": "https://localhost:8080/"
        },
        "id": "50oH5R4wvX35",
        "outputId": "35520ce1-96e1-41e1-c166-c87f77263367"
      },
      "source": [
        "# Input nilai tugas, nilai uts, dan nilai uas\n",
        "n_tugas = input(\"Masukkan Nilai Tugas : \")\n",
        "n_tugas = float(n_tugas)\n",
        "n_uts = input(\"Masukkan Nilai UTS : \")\n",
        "n_uts = float(n_uts)\n",
        "n_uas = input(\"Masukkan Nilai UAS : \")\n",
        "n_uas = float(n_uas)\n",
        "\n",
        "# Hitung nilai akhir\n",
        "n_akhir = (0.2*n_tugas) + (0.3 * n_uts) + (0.5 * n_uas)\n",
        "\n",
        "# Cetak nilai akhir\n",
        "print(\"Nilai akhir : \", n_akhir)"
      ],
      "execution_count": null,
      "outputs": [
        {
          "output_type": "stream",
          "name": "stdout",
          "text": [
            "Masukkan Nilai Tugas : 80\n",
            "Masukkan Nilai UTS : 80\n",
            "Masukkan Nilai UAS : 90\n",
            "Nilai akhir :  85.0\n"
          ]
        }
      ]
    },
    {
      "cell_type": "markdown",
      "metadata": {
        "id": "ijg34PHsbNrb"
      },
      "source": [
        "### Seleksi"
      ]
    },
    {
      "cell_type": "code",
      "metadata": {
        "id": "Wayppn8ebPUn",
        "outputId": "edc33203-4b12-4db3-a170-1b31d95cab92",
        "colab": {
          "base_uri": "https://localhost:8080/"
        }
      },
      "source": [
        "# Input total pembelian\n",
        "total_bayar = input(\"Total Bayar : \")\n",
        "total_bayar = float(total_bayar)\n",
        "\n",
        "# Hitung Diskon\n",
        "if total_bayar >= 500000 :\n",
        "  diskon = total_bayar * 0.1\n",
        "elif total_bayar >= 200000 :\n",
        "  diskon = total_bayar * 0.05\n",
        "else :\n",
        "  diskon = total_bayar * 0.02\n",
        "\n",
        "# Hitung total bayar setelah diskon\n",
        "total_bayar = total_bayar - diskon\n",
        "\n",
        "# Cetak total bayar\n",
        "print(\"Jumlah potongan : \", diskon)\n",
        "print(\"Total Pembayaran : \", total_bayar)"
      ],
      "execution_count": 1,
      "outputs": [
        {
          "output_type": "stream",
          "name": "stdout",
          "text": [
            "Total Bayar : 400000\n",
            "Jumlah potongan :  20000.0\n",
            "Total Pembayaran :  380000.0\n"
          ]
        }
      ]
    },
    {
      "cell_type": "code",
      "metadata": {
        "id": "H2wIVQZ9ey5C"
      },
      "source": [
        ""
      ],
      "execution_count": null,
      "outputs": []
    }
  ]
}