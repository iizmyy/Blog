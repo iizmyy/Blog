{
  "nbformat": 4,
  "nbformat_minor": 0,
  "metadata": {
    "colab": {
      "name": "algoritmaPemrograman.ipynb",
      "provenance": [],
      "authorship_tag": "ABX9TyPYzH7kWV3rKzyQFWvOKGPi",
      "include_colab_link": true
    },
    "kernelspec": {
      "name": "python3",
      "display_name": "Python 3"
    },
    "language_info": {
      "name": "python"
    }
  },
  "cells": [
    {
      "cell_type": "markdown",
      "metadata": {
        "id": "view-in-github",
        "colab_type": "text"
      },
      "source": [
        "<a href=\"https://colab.research.google.com/github/iizmyy/blog/blob/master/algoritmaPemrograman.ipynb\" target=\"_parent\"><img src=\"https://colab.research.google.com/assets/colab-badge.svg\" alt=\"Open In Colab\"/></a>"
      ]
    },
    {
      "cell_type": "code",
      "metadata": {
        "colab": {
          "base_uri": "https://localhost:8080/"
        },
        "id": "50oH5R4wvX35",
        "outputId": "f89e4c85-5f40-44e3-97bf-f3f7e9b9bf31"
      },
      "source": [
        "# Input nilai tugas, nilai uts, dan nilai uas\n",
        "n_tugas = input(\"Masukkan Nilai Tugas : \")\n",
        "n_tugas = float(n_tugas)\n",
        "n_uts = input(\"Masukkan Nilai Tugas : \")\n",
        "n_uts = float(n_uts)\n",
        "n_uas = input(\"Masukkan Nilai Tugas : \")\n",
        "n_uas = float(n_uas)\n",
        "\n",
        "# Hitung nilai akhir\n",
        "n_akhir = (0.2*n_tugas) + (0.3 * n_uts) + (0.5 * n_uas)\n",
        "\n",
        "# Cetak nilai akhir\n",
        "print(\"Nilai akhir : \", n_akhir)"
      ],
      "execution_count": 1,
      "outputs": [
        {
          "output_type": "stream",
          "name": "stdout",
          "text": [
            "Masukkan Nilai Tugas : 80\n",
            "Masukkan Nilai Tugas : 80\n",
            "Masukkan Nilai Tugas : 90\n",
            "Nilai akhir :  85.0\n"
          ]
        }
      ]
    }
  ]
}