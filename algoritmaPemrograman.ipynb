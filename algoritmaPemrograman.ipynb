{
  "nbformat": 4,
  "nbformat_minor": 0,
  "metadata": {
    "colab": {
      "name": "algoritmaPemrograman.ipynb",
      "provenance": [],
      "authorship_tag": "ABX9TyMoLvwPUgbCRQdILra/TmyO",
      "include_colab_link": true
    },
    "kernelspec": {
      "name": "python3",
      "display_name": "Python 3"
    },
    "language_info": {
      "name": "python"
    }
  },
  "cells": [
    {
      "cell_type": "markdown",
      "metadata": {
        "id": "view-in-github",
        "colab_type": "text"
      },
      "source": [
        "<a href=\"https://colab.research.google.com/github/iizmyy/blog/blob/master/algoritmaPemrograman.ipynb\" target=\"_parent\"><img src=\"https://colab.research.google.com/assets/colab-badge.svg\" alt=\"Open In Colab\"/></a>"
      ]
    },
    {
      "cell_type": "code",
      "metadata": {
        "colab": {
          "base_uri": "https://localhost:8080/"
        },
        "id": "50oH5R4wvX35",
        "outputId": "35520ce1-96e1-41e1-c166-c87f77263367"
      },
      "source": [
        "# Input nilai tugas, nilai uts, dan nilai uas\n",
        "n_tugas = input(\"Masukkan Nilai Tugas : \")\n",
        "n_tugas = float(n_tugas)\n",
        "n_uts = input(\"Masukkan Nilai UTS : \")\n",
        "n_uts = float(n_uts)\n",
        "n_uas = input(\"Masukkan Nilai UAS : \")\n",
        "n_uas = float(n_uas)\n",
        "\n",
        "# Hitung nilai akhir\n",
        "n_akhir = (0.2*n_tugas) + (0.3 * n_uts) + (0.5 * n_uas)\n",
        "\n",
        "# Cetak nilai akhir\n",
        "print(\"Nilai akhir : \", n_akhir)"
      ],
      "execution_count": null,
      "outputs": [
        {
          "output_type": "stream",
          "name": "stdout",
          "text": [
            "Masukkan Nilai Tugas : 80\n",
            "Masukkan Nilai UTS : 80\n",
            "Masukkan Nilai UAS : 90\n",
            "Nilai akhir :  85.0\n"
          ]
        }
      ]
    },
    {
      "cell_type": "markdown",
      "metadata": {
        "id": "ijg34PHsbNrb"
      },
      "source": [
        "### Seleksi"
      ]
    },
    {
      "cell_type": "code",
      "metadata": {
        "colab": {
          "base_uri": "https://localhost:8080/"
        },
        "id": "Wayppn8ebPUn",
        "outputId": "852e155c-274b-4e63-c91d-79a893a0a339"
      },
      "source": [
        "# Input total pembelian\n",
        "total_bayar = input(\"Total Bayar : Rp.\")\n",
        "total_bayar = float(total_bayar)\n",
        "\n",
        "# Hitung Diskon\n",
        "if total_bayar >= 500000 :\n",
        "  diskon = total_bayar * 0.1\n",
        "elif total_bayar >= 200000 :\n",
        "  diskon = total_bayar * 0.05\n",
        "else :\n",
        "  diskon = total_bayar * 0.02\n",
        "\n",
        "# Hitung total bayar setelah diskon\n",
        "total_bayar = total_bayar - diskon\n",
        "\n",
        "# Cetak total bayar\n",
        "print(\"Jumlah potongan : Rp.\", diskon)\n",
        "print(\"Total Pembayaran : Rp.\", total_bayar)"
      ],
      "execution_count": null,
      "outputs": [
        {
          "output_type": "stream",
          "name": "stdout",
          "text": [
            "Total Bayar : Rp.400000\n",
            "Jumlah potongan : Rp. 20000.0\n",
            "Total Pembayaran : Rp. 380000.0\n"
          ]
        }
      ]
    },
    {
      "cell_type": "code",
      "metadata": {
        "id": "H2wIVQZ9ey5C",
        "colab": {
          "base_uri": "https://localhost:8080/"
        },
        "outputId": "55bccf7a-1007-4fc7-caf5-01ce3cbb7999"
      },
      "source": [
        "print(\"Toko Algoritma\");\n",
        "print(\"Jln. Kebenaran No. 10 Makassar\")\n",
        "print(\"\\n\")\n",
        "print(\"Daftar Pembelian\")\n",
        "\n",
        "tambah = 'y'\n",
        "i = 1\n",
        "total = 0\n",
        "while(tambah=='y' or tambah=='Y'):\n",
        "  print(\"No.\", i)\n",
        "  nama = input(\"Nama Barang : \")\n",
        "  jumlah = input(\"Jumlah : \")\n",
        "  harga_satu = input(\"Harga Satuan : \")\n",
        "  jumlah = int(jumlah)\n",
        "  harga_satu = int(harga_satu)\n",
        "  jum_harga = jumlah * harga_satu\n",
        "  print(\"Jumlah Harga : \", jum_harga)\n",
        "  tambah = input(\"\\nTambah Barang ? : \")\n",
        "  total += jum_harga\n",
        "  i+=1\n",
        "print(\"Total Bayar : Rp. \", total)\n",
        "bayar = input(\"Bayar : Rp. \")\n",
        "bayar = int(bayar)\n",
        "kembali = bayar-total\n",
        "print(\"Kembali : Rp. \", kembali)\n"
      ],
      "execution_count": null,
      "outputs": [
        {
          "output_type": "stream",
          "name": "stdout",
          "text": [
            "Toko Algoritma\n",
            "Jln. Kebenaran No. 10 Makassar\n",
            "\n",
            "\n",
            "Daftar Pembelian\n",
            "No. 1\n",
            "Nama Barang : Sabun\n",
            "Jumlah : 3\n",
            "Harga Satuan : 3500\n",
            "Jumlah Harga :  10500\n",
            "\n",
            "Tambah Barang ? : y\n",
            "No. 2\n",
            "Nama Barang : Roti\n",
            "Jumlah : 1\n",
            "Harga Satuan : 10000\n",
            "Jumlah Harga :  10000\n",
            "\n",
            "Tambah Barang ? : t\n",
            "Total Bayar : Rp.  20500\n",
            "Bayar : Rp. 50000\n",
            "Kembali : Rp.  29500\n"
          ]
        }
      ]
    },
    {
      "cell_type": "markdown",
      "metadata": {
        "id": "ukjSg2WWm70Q"
      },
      "source": [
        "### Prosedur dan Fungsi"
      ]
    },
    {
      "cell_type": "code",
      "metadata": {
        "id": "rwKKnCOgdSZs",
        "outputId": "59810035-d164-4899-9cf0-96ce9f1b5eff",
        "colab": {
          "base_uri": "https://localhost:8080/"
        }
      },
      "source": [
        "def inputData():\n",
        "  nama = input(\"Nama Karyawan : \")\n",
        "  id_jab = input(\"ID Jabatan [SE/PM/DA] : \")\n",
        "  jam_lembur = input(\"Jumlah Lembur (jam) : \")\n",
        "  jam_lembur = int(jam_lembur)\n",
        "  \n",
        "  return nama, id_jab, jam_lembur\n",
        "\n",
        "def hitungGaji():\n",
        "  if id_jab == 'SE':\n",
        "    jabatan = 'Software Engineering'\n",
        "    gapok = 20000000\n",
        "    lembur_per_jam = 500000\n",
        "  elif id_jab == 'PM':\n",
        "    jabatan = 'Programmer'\n",
        "    gapok = 10000000\n",
        "    lembur_per_jam = 200000\n",
        "  else :\n",
        "    jabatan = 'Database Designer'\n",
        "    gapok = 10000000\n",
        "    lembur_per_jam = 250000\n",
        "\n",
        "  gaji = gapok + (jam_lembur * lembur_per_jam)\n",
        "\n",
        "  return jabatan, gaji\n",
        "  \n",
        "def cetakDataGaji():\n",
        "  print(\"Nama Karyawan :\", nama)\n",
        "  print(\"Jabatan :\", jabatan)\n",
        "  print(\"Total Gaji: Rp. \", gaji)\n",
        "\n",
        "nama, id_jab, jam_lembur = inputData()\n",
        "jabatan, gaji = hitungGaji()\n",
        "print(\"----------------------\\n\")\n",
        "cetakDataGaji()\n"
      ],
      "execution_count": null,
      "outputs": [
        {
          "output_type": "stream",
          "name": "stdout",
          "text": [
            "Nama Karyawan : Andika\n",
            "ID Jabatan [SE/PM/DA] : SE\n",
            "Jumlah Lembur (jam) : 4\n",
            "----------------------\n",
            "\n",
            "Nama Karyawan : Andika\n",
            "Jabatan : Software Engineering\n",
            "Total Gaji: Rp.  22000000\n"
          ]
        }
      ]
    },
    {
      "cell_type": "markdown",
      "source": [
        "### Array"
      ],
      "metadata": {
        "id": "mAfgt4bWjLHs"
      }
    },
    {
      "cell_type": "code",
      "metadata": {
        "id": "mueoXtBLodR1",
        "outputId": "32c0fa85-0cce-486a-aed5-f9d5a24281e4",
        "colab": {
          "base_uri": "https://localhost:8080/"
        }
      },
      "source": [
        "import numpy as np\n",
        "\n",
        "def isiArray(n):\n",
        "    arr = np.array([])\n",
        "    for i in range(n) :\n",
        "        elemen = input(\"Masukkan elemen ke-\" + str(i+1)+\" \")\n",
        "        elemen = int(elemen)\n",
        "        arr = np.append(arr, elemen)\n",
        "    return arr\n",
        "\n",
        "def cetakArray(arr) :\n",
        "    for a in arr:\n",
        "        print(a)\n",
        "        \n",
        "def gabungArray(arr1, arr2) :\n",
        "    n = arr1.size\n",
        "    m = arr2.size\n",
        "    arr = np.array([])\n",
        "    # Salin isi arr1 ke array gabungan\n",
        "    for i in range(n):\n",
        "        arr = np.append(arr, arr1[i])\n",
        "    # Salin isi arr2 ke array gabungan\n",
        "    for i in range(m):\n",
        "        arr = np.append(arr, arr2[i])\n",
        "    return arr\n",
        "\n",
        "def sortArray(arr):\n",
        "    n = arr.size\n",
        "    for i in range (n-1):\n",
        "        for j in range (i+1,n):\n",
        "            if (arr[i]>arr[j]) :\n",
        "                temp = arr[i]\n",
        "                arr[i] = arr[j]\n",
        "                arr[j] = temp\n",
        "    return arr\n",
        "\n",
        "def cariElemen(arr, elemen):\n",
        "    indikator = 'N'\n",
        "    indeks = 0;\n",
        "    n = arr.size\n",
        "    while(indikator=='N' and indeks < n ):\n",
        "        if(arr[indeks] == elemen):\n",
        "            posisi = indeks+1\n",
        "            indikator = 'Y'\n",
        "        indeks += 1kharisma.ac.id/\n",
        "    if indikator == 'N':\n",
        "        posisi = \"Elemen tidak ditemukan\"\n",
        "    return posisi\n",
        "\n",
        "# Input Elemen Array\n",
        "print(\"Input Elemen Array\")\n",
        "nilai = np.array([])\n",
        "nilai = isiArray(10)\n",
        "\n",
        "# Mencetak Isi Array\n",
        "print(\"Isi Array :\")\n",
        "cetakArray(nilai)\n",
        "\n",
        "# Mengurutkan isi Array\n",
        "print(\"Array setelah diurutkan :\")\n",
        "sortedArray = sortArray(nilai)\n",
        "print(sortedArray)\n",
        "\n",
        "# Mencari isi Array\n",
        "angka = 9\n",
        "posisi = cariElemen(nilai, angka)\n",
        "print(\"Elemen {} berada pada indeks ke- : {}\".format(angka, posisi))\n",
        "\n",
        "#Gabung Array\n",
        "print(\"Array setelah digabung\")\n",
        "nilai1 = np.array([3,4])\n",
        "gabungArr = gabungArray(nilai, nilai1)\n",
        "print(gabungArr)"
      ],
      "execution_count": null,
      "outputs": [
        {
          "output_type": "stream",
          "name": "stdout",
          "text": [
            "Input Elemen Array\n",
            "Masukkan elemen ke-1 7\n",
            "Masukkan elemen ke-2 12\n",
            "Masukkan elemen ke-3 15\n",
            "Masukkan elemen ke-4 7\n",
            "Masukkan elemen ke-5 1\n",
            "Masukkan elemen ke-6 2\n",
            "Masukkan elemen ke-7 5\n",
            "Masukkan elemen ke-8 4\n",
            "Masukkan elemen ke-9 8\n",
            "Masukkan elemen ke-10 6\n",
            "Isi Array :\n",
            "7.0\n",
            "12.0\n",
            "15.0\n",
            "7.0\n",
            "1.0\n",
            "2.0\n",
            "5.0\n",
            "4.0\n",
            "8.0\n",
            "6.0\n",
            "Array setelah diurutkan :\n",
            "[ 1.  2.  4.  5.  6.  7.  7.  8. 12. 15.]\n",
            "Elemen 9 berada pada indeks ke- : Elemen tidak ditemukan\n",
            "Array setelah digabung\n",
            "[ 1.  2.  4.  5.  6.  7.  7.  8. 12. 15.  3.  4.]\n"
          ]
        }
      ]
    },
    {
      "cell_type": "markdown",
      "source": [
        "### Array 2D"
      ],
      "metadata": {
        "id": "uX-TmPdwENL_"
      }
    },
    {
      "cell_type": "code",
      "source": [
        "import numpy as np\n",
        "\n",
        "def isiArrayDD(n, m):\n",
        "  arr = np.array([[]])\n",
        "  for baris in range(n):\n",
        "    arr1D = np.array([])\n",
        "    for kolom in range(m):\n",
        "      elemen = input(\"Masukkan elemen baris ke-{} kolom ke-{} : \".format(baris+1, kolom+1))\n",
        "      elemen = int(elemen)\n",
        "      arr = np.append(arr, elemen)\n",
        "  arr = np.reshape(arr, (n,m))\n",
        "  return arr\n",
        "\n",
        "def cetakArrayDD(n, m, arr):\n",
        "  for baris in range(n):\n",
        "    for kolom in range(m):\n",
        "      print(arr[baris,kolom], end='  ')\n",
        "    print()\n",
        "\n",
        "#Mengisi Data Suhu\n",
        "print(\"Input Data Suhu\")\n",
        "array2D = isiArrayDD(3,4)\n",
        "\n",
        "#Mencetak Data Suhu\n",
        "print(\"Data Suhu Udara Selama 3 Hari\")\n",
        "cetakArrayDD(3,4, array2D)"
      ],
      "metadata": {
        "id": "2VCPP7-NjRLf",
        "outputId": "d5dd3f59-10e1-43f3-9fcb-d723c23e6996",
        "colab": {
          "base_uri": "https://localhost:8080/"
        }
      },
      "execution_count": null,
      "outputs": [
        {
          "output_type": "stream",
          "name": "stdout",
          "text": [
            "Input Data Suhu\n",
            "Masukkan elemen baris ke-1 kolom ke-1 : 25\n",
            "Masukkan elemen baris ke-1 kolom ke-2 : 31\n",
            "Masukkan elemen baris ke-1 kolom ke-3 : 30\n",
            "Masukkan elemen baris ke-1 kolom ke-4 : 26\n",
            "Masukkan elemen baris ke-2 kolom ke-1 : 24\n",
            "Masukkan elemen baris ke-2 kolom ke-2 : 28\n",
            "Masukkan elemen baris ke-2 kolom ke-3 : 27\n",
            "Masukkan elemen baris ke-2 kolom ke-4 : 23\n",
            "Masukkan elemen baris ke-3 kolom ke-1 : 23\n",
            "Masukkan elemen baris ke-3 kolom ke-2 : 26\n",
            "Masukkan elemen baris ke-3 kolom ke-3 : 25\n",
            "Masukkan elemen baris ke-3 kolom ke-4 : 24\n",
            "Data Suhu Udara Selama 3 Hari\n",
            "25.0  31.0  30.0  26.0  \n",
            "24.0  28.0  27.0  23.0  \n",
            "23.0  26.0  25.0  24.0  \n"
          ]
        }
      ]
    },
    {
      "cell_type": "markdown",
      "source": [
        "### Linear Search\n"
      ],
      "metadata": {
        "id": "gGjrpmHEs_NI"
      }
    },
    {
      "cell_type": "code",
      "source": [
        "import numpy as np\n",
        "\n",
        "#Input Elemen Data ke Array arr\n",
        "n = 12\n",
        "arr = np.array([])\n",
        "for i in range(n) :\n",
        "  elemen = input(\"Masukkan elemen ke-\" + str(i+1)+\" : \")\n",
        "  elemen = int(elemen)\n",
        "  arr = np.append(arr, elemen)\n",
        "\n",
        "# Input data yang dicari\n",
        "x = input(\"Masukkan data yang dicari :\")\n",
        "x = int(x)\n",
        "\n",
        "# Mencari data x dalam array arr\n",
        "indeks=0;\n",
        "ditemukan = False\n",
        "while(indeks < n-1 and arr[indeks] != x ):\n",
        "  indeks+=1\n",
        "\n",
        "if(arr[indeks] == x):\n",
        "  ditemukan = True\n",
        "\n",
        "if(ditemukan == True):\n",
        "  print(\"Data ditemukan pada elemen ke-\", indeks+1)\n",
        "else:\n",
        "    print(\"Data tidak ditemukan\")\n"
      ],
      "metadata": {
        "id": "HyfFNOQHGcuU",
        "colab": {
          "base_uri": "https://localhost:8080/"
        },
        "outputId": "b5f9b317-5275-4d96-da3f-2830419b392f"
      },
      "execution_count": null,
      "outputs": [
        {
          "output_type": "stream",
          "name": "stdout",
          "text": [
            "Masukkan elemen ke-1 : 5\n",
            "Masukkan elemen ke-2 : 10\n",
            "Masukkan elemen ke-3 : 1\n",
            "Masukkan elemen ke-4 : 10\n",
            "Masukkan elemen ke-5 : 15\n",
            "Masukkan elemen ke-6 : 2\n",
            "Masukkan elemen ke-7 : 15\n",
            "Masukkan elemen ke-8 : 20\n",
            "Masukkan elemen ke-9 : 3\n",
            "Masukkan elemen ke-10 : 20\n",
            "Masukkan elemen ke-11 : 25\n",
            "Masukkan elemen ke-12 : 4\n",
            "Masukkan data yang dicari :3\n",
            "Data ditemukan pada elemen ke- 9\n"
          ]
        }
      ]
    },
    {
      "cell_type": "markdown",
      "source": [
        "###Binary Search"
      ],
      "metadata": {
        "id": "-dNlCyT4JlAT"
      }
    },
    {
      "cell_type": "code",
      "source": [
        "import numpy as np\n",
        "import math\n",
        "\n",
        "arr = np.array([32,2,10,5,3,12,30,14,1,33])\n",
        "sorted_arr = np.sort(arr) # mengurutkan isi array\n",
        "idx1 = 0\n",
        "idx2 = arr.size-1\n",
        "index = math.ceil(idx2/2)\n",
        "ditemukan = False\n",
        "\n",
        "# Input data yang dicari\n",
        "x = input(\"Masukkan data yang dicari :\")\n",
        "x = int(x)\n",
        "\n",
        "# Baca Data\n",
        "print(\"Data Terurut : \")\n",
        "for i in range(arr.size):\n",
        "  print(sorted_arr[i], end=\" \")\n",
        "print()\n",
        "\n",
        "while(ditemukan==False and (idx1 <= idx2)) :\n",
        "  indeks = math.ceil((idx1 + idx2)/2)\n",
        "  if(x==sorted_arr[indeks]):\n",
        "    ditemukan = True\n",
        "  elif (x > sorted_arr[indeks]):\n",
        "    idx1 = indeks+1\n",
        "  else :\n",
        "    idx2 = indeks-1\n",
        "if(ditemukan == True):\n",
        "  print(\"Data ditemukan di posisi :\", indeks+1)\n",
        "else :\n",
        "  print(\"Data tidak ditemukan\")\n"
      ],
      "metadata": {
        "id": "GAFuJSafJh6g",
        "outputId": "1d6137d2-6078-4a62-834b-25aeb01e676e",
        "colab": {
          "base_uri": "https://localhost:8080/"
        }
      },
      "execution_count": null,
      "outputs": [
        {
          "output_type": "stream",
          "name": "stdout",
          "text": [
            "Masukkan data yang dicari :75\n",
            "Data Terurut : \n",
            "1 2 3 5 10 12 14 30 32 33 \n",
            "Data tidak ditemukan\n"
          ]
        }
      ]
    },
    {
      "cell_type": "markdown",
      "source": [
        "### Bubble Sort"
      ],
      "metadata": {
        "id": "LpK4FMUHucuD"
      }
    },
    {
      "cell_type": "code",
      "source": [
        "import numpy as np\n",
        "\n",
        "arr = np.array([10,25,9,17,11,3])\n",
        "\n",
        "def bubbleSort(vArray):\n",
        "    maks = vArray.size\n",
        "    for i in range(maks-1):\n",
        "        print(\"Loop \", i+1)\n",
        "        for indeks in range(maks-1):\n",
        "            if(vArray[indeks]>vArray[indeks+1]):\n",
        "                temp = vArray[indeks]\n",
        "                vArray[indeks] = vArray[indeks+1]\n",
        "                vArray[indeks+1] = temp\n",
        "                #vArray[[indeks, indeks+1]] = vArray[[indeks+1, indeks]] \n",
        "            print(vArray)\n",
        "        maks-=1\n",
        "    return vArray\n",
        "\n",
        "print(\"Array Sebelum diurutkan : \", arr)\n",
        "print(\"Array setelah diurutkan : \", bubbleSort(arr))"
      ],
      "metadata": {
        "id": "D9Zetu23Jwvt",
        "outputId": "4033fd91-9694-46e7-cac7-03bab297d1b0",
        "colab": {
          "base_uri": "https://localhost:8080/"
        }
      },
      "execution_count": null,
      "outputs": [
        {
          "output_type": "stream",
          "name": "stdout",
          "text": [
            "Array Sebelum diurutkan :  [10 25  9 17 11  3]\n",
            "Loop  1\n",
            "[10 25  9 17 11  3]\n",
            "[10  9 25 17 11  3]\n",
            "[10  9 17 25 11  3]\n",
            "[10  9 17 11 25  3]\n",
            "[10  9 17 11  3 25]\n",
            "Loop  2\n",
            "[ 9 10 17 11  3 25]\n",
            "[ 9 10 17 11  3 25]\n",
            "[ 9 10 11 17  3 25]\n",
            "[ 9 10 11  3 17 25]\n",
            "Loop  3\n",
            "[ 9 10 11  3 17 25]\n",
            "[ 9 10 11  3 17 25]\n",
            "[ 9 10  3 11 17 25]\n",
            "Loop  4\n",
            "[ 9 10  3 11 17 25]\n",
            "[ 9  3 10 11 17 25]\n",
            "Loop  5\n",
            "[ 3  9 10 11 17 25]\n",
            "Array setelah diurutkan :  [ 3  9 10 11 17 25]\n"
          ]
        }
      ]
    },
    {
      "cell_type": "markdown",
      "source": [
        "### Selection Sort"
      ],
      "metadata": {
        "id": "61_mbYMrKjcN"
      }
    },
    {
      "cell_type": "code",
      "source": [
        "import numpy as np\n",
        "\n",
        "arr = np.array([10,25,9,17,11,3])\n",
        "\n",
        "def selectionSort(vArray):\n",
        "  maks = vArray.size\n",
        "  for i in range(maks-1):\n",
        "    iMin = i;\n",
        "    print(\"Loop \", i+1)\n",
        "    for indeks in range(i+1, maks):\n",
        "      if(vArray[indeks] < vArray[iMin]):\n",
        "        iMin = indeks\n",
        "    if(i != iMin ) :\n",
        "      vArray[[i, iMin]] = vArray[[iMin, i]] \n",
        "    print(vArray)\n",
        "  return vArray\n",
        "\n",
        "print(\"Array Sebelum diurutkan : \", arr)\n",
        "print(\"Array setelah diurutkan : \", selectionSort(arr))"
      ],
      "metadata": {
        "id": "XIJKn2c4um-g",
        "outputId": "44acb4f8-e8bc-4ea2-eae1-b4fdd936d4b3",
        "colab": {
          "base_uri": "https://localhost:8080/"
        }
      },
      "execution_count": null,
      "outputs": [
        {
          "output_type": "stream",
          "name": "stdout",
          "text": [
            "Array Sebelum diurutkan :  [10 25  9 17 11  3]\n",
            "Loop  1\n",
            "[ 3 25  9 17 11 10]\n",
            "Loop  2\n",
            "[ 3  9 25 17 11 10]\n",
            "Loop  3\n",
            "[ 3  9 10 17 11 25]\n",
            "Loop  4\n",
            "[ 3  9 10 11 17 25]\n",
            "Loop  5\n",
            "[ 3  9 10 11 17 25]\n",
            "Array setelah diurutkan :  [ 3  9 10 11 17 25]\n"
          ]
        }
      ]
    },
    {
      "cell_type": "markdown",
      "source": [
        "### Insertion Sort"
      ],
      "metadata": {
        "id": "hVT_OQ22IxnR"
      }
    },
    {
      "cell_type": "code",
      "source": [
        "import numpy as np\n",
        "\n",
        "arr = np.array([10,25,9,17,11,3])\n",
        "\n",
        "def insertionSort(vArray):\n",
        "  for posisi in range(1,vArray.size):\n",
        "    print(\"Loop \", posisi)\n",
        "    x = vArray[posisi];\n",
        "    idx = 0;\n",
        "    # Cari posisi penyisipan elemen x\n",
        "    while(x > vArray[idx] and idx < posisi):\n",
        "      idx+=1\n",
        "    # Geser dan sisipkan elemen-elemen data\n",
        "    if(x <= arr[idx]):\n",
        "      for k in range(posisi,idx,-1):\n",
        "        vArray[k] = vArray[k-1]\n",
        "      vArray[idx] = x\n",
        "      #print(\"Ambil elemen ke-{} : {}\".format(posisi+1,x))\n",
        "      print(vArray)\n",
        "  return vArray\n",
        "\n",
        "print(\"Array Sebelum diurutkan : \", arr)\n",
        "print(\"Array setelah diurutkan : \", insertionSort(arr))"
      ],
      "metadata": {
        "id": "UReg2wx5MPHH",
        "outputId": "003350a2-ce76-4e57-d095-95c770a4c4c0",
        "colab": {
          "base_uri": "https://localhost:8080/"
        }
      },
      "execution_count": null,
      "outputs": [
        {
          "output_type": "stream",
          "name": "stdout",
          "text": [
            "Array Sebelum diurutkan :  [10 25  9 17 11  3]\n",
            "Loop  1\n",
            "[10 25  9 17 11  3]\n",
            "Loop  2\n",
            "[ 9 10 25 17 11  3]\n",
            "Loop  3\n",
            "[ 9 10 17 25 11  3]\n",
            "Loop  4\n",
            "[ 9 10 11 17 25  3]\n",
            "Loop  5\n",
            "[ 3  9 10 11 17 25]\n",
            "Array setelah diurutkan :  [ 3  9 10 11 17 25]\n"
          ]
        }
      ]
    },
    {
      "cell_type": "markdown",
      "source": [
        "#### Merge Sort"
      ],
      "metadata": {
        "id": "zi60PWaBvy6h"
      }
    },
    {
      "cell_type": "code",
      "source": [
        "import numpy as np\n",
        "import math\n",
        "\n",
        "def mergeSort(vArray, awal, akhir):\n",
        "  if(awal < akhir):\n",
        "    mid = math.floor((awal+akhir)/2)\n",
        "    #print(vArray[awal:akhir+1])\n",
        "    mergeSort(vArray, awal, mid)\n",
        "    mergeSort(vArray, mid+1, akhir)\n",
        "    vArray = merge(vArray, awal, mid, akhir)\n",
        "    return vArray\n",
        "\n",
        "\n",
        "def merge(vArray, awal, mid, akhir):\n",
        "  lArray = np.array([])\n",
        "  rArray = np.array([])\n",
        "\n",
        "  n1 = mid-awal+1\n",
        "  n2 = akhir-mid\n",
        "  for i in range(n1):\n",
        "    lArray = np.append(lArray, vArray[awal+i])\n",
        "  for j in range(n2):\n",
        "    rArray = np.append(rArray, vArray[mid+1+j])\n",
        "  i = j =  0\n",
        "  k = awal\n",
        "  print(lArray, rArray)\n",
        "  while(i < n1 and j < n2):\n",
        "    if(lArray[i] <= rArray[j]):\n",
        "      vArray[k] = lArray[i]\n",
        "      i+=1\n",
        "    else:\n",
        "      vArray[k] = rArray[j]\n",
        "      j+=1\n",
        "    k+=1\n",
        "\n",
        "  while(i < n1):\n",
        "    vArray[k] = lArray[i]\n",
        "    i+=1\n",
        "    k+=1\n",
        "  \n",
        "  while(j < n2):\n",
        "    vArray[k] = rArray[j]\n",
        "    j+=1\n",
        "    k+=1\n",
        "  return vArray\n",
        "\n",
        "if __name__ == \"__main__\":\n",
        "  #arr = np.array([10,25,9,17,11,3])\n",
        "  #arr = np.array([33,14,27,10,35,19,44,42])\n",
        "  arr = np.array([15,40,21,3,42,18,45,50])\n",
        "  awal=0\n",
        "  akhir=arr.size-1\n",
        "  print(\"Array belum terurut : \", arr)\n",
        "  sortedArray = mergeSort(arr,awal,akhir)\n",
        "  #print(sortedArray)\n",
        "  print(\"Array setelah diurutkan : \", sortedArray)"
      ],
      "metadata": {
        "id": "XUwTLIq9LMtI",
        "outputId": "f7f5ee8a-c306-4d67-c925-bb9fb7fdfca9",
        "colab": {
          "base_uri": "https://localhost:8080/"
        }
      },
      "execution_count": null,
      "outputs": [
        {
          "output_type": "stream",
          "name": "stdout",
          "text": [
            "Array belum terurut :  [15 40 21  3 42 18 45 50]\n",
            "[15.] [40.]\n",
            "[21.] [3.]\n",
            "[15. 40.] [ 3. 21.]\n",
            "[42.] [18.]\n",
            "[45.] [50.]\n",
            "[18. 42.] [45. 50.]\n",
            "[ 3. 15. 21. 40.] [18. 42. 45. 50.]\n",
            "Array setelah diurutkan :  [ 3 15 18 21 40 42 45 50]\n"
          ]
        }
      ]
    },
    {
      "cell_type": "markdown",
      "source": [
        "### Quick Sort"
      ],
      "metadata": {
        "id": "6L0GCtMGxR0k"
      }
    },
    {
      "cell_type": "code",
      "source": [
        "import numpy as np\n",
        "import math\n",
        "\n",
        "def quickSort(vArray, indeksKiri, indeksKanan):\n",
        "  if(indeksKiri < indeksKanan):\n",
        "    indeksPivot = partisi(vArray, indeksKiri, indeksKanan)\n",
        "    quickSort(vArray, indeksKiri, indeksPivot-1)\n",
        "    quickSort(vArray, indeksPivot, indeksKanan)\n",
        "\n",
        "def partisi(vArray, indeksKiri, indeksKanan):\n",
        "  indeksPivot = indeksKanan\n",
        "  indeks = indeksKiri\n",
        "  print(\"Pivot : \", vArray[indeksPivot]) # Mencetak Pivot\n",
        "  print(vArray[indeksKiri:indeksKanan+1]) # Mencetak Partisi\n",
        "  for i in range (indeksKiri, indeksKanan+1):\n",
        "    if(vArray[i] < vArray[indeksPivot]):\n",
        "      vArray[[i, indeks]] = vArray[[indeks, i]]\n",
        "      indeks+=1\n",
        "  vArray[[indeksPivot, indeks]] = vArray[[indeks, indeksPivot]]\n",
        "  return indeks\n",
        "\n",
        "if __name__ == \"__main__\":\n",
        "  arr = np.array([15,70,35,80,42,38,45,58])\n",
        "  awal=0\n",
        "  akhir=arr.size-1\n",
        "  print(\"Array belum terurut : \", arr)\n",
        "  quickSort(arr,awal,akhir)\n",
        "  print(\"Array setelah diurutkan : \", arr)"
      ],
      "metadata": {
        "id": "NuCJ2IWzjzs7",
        "outputId": "ec86ae43-f1fa-4a86-e124-cf327faebb65",
        "colab": {
          "base_uri": "https://localhost:8080/"
        }
      },
      "execution_count": 16,
      "outputs": [
        {
          "output_type": "stream",
          "name": "stdout",
          "text": [
            "Array belum terurut :  [15 70 35 80 42 38 45 58]\n",
            "Pivot :  58\n",
            "[15 70 35 80 42 38 45 58]\n",
            "Pivot :  45\n",
            "[15 35 42 38 45]\n",
            "Pivot :  38\n",
            "[15 35 42 38]\n",
            "Pivot :  35\n",
            "[15 35]\n",
            "Pivot :  42\n",
            "[38 42]\n",
            "Pivot :  80\n",
            "[58 70 80]\n",
            "Pivot :  70\n",
            "[58 70]\n",
            "Array setelah diurutkan :  [15 35 38 42 45 58 70 80]\n"
          ]
        }
      ]
    },
    {
      "cell_type": "code",
      "source": [
        ""
      ],
      "metadata": {
        "id": "krFF6TZzzz9W"
      },
      "execution_count": null,
      "outputs": []
    }
  ]
}