{
  "nbformat": 4,
  "nbformat_minor": 0,
  "metadata": {
    "colab": {
      "name": "Struktur Data.ipynb",
      "provenance": [],
      "collapsed_sections": [],
      "authorship_tag": "ABX9TyMoZsWFUJ1SZkwCKlg5zmy9",
      "include_colab_link": true
    },
    "kernelspec": {
      "name": "python3",
      "display_name": "Python 3"
    },
    "language_info": {
      "name": "python"
    }
  },
  "cells": [
    {
      "cell_type": "markdown",
      "metadata": {
        "id": "view-in-github",
        "colab_type": "text"
      },
      "source": [
        "<a href=\"https://colab.research.google.com/github/iizmyy/blog/blob/master/Struktur_Data.ipynb\" target=\"_parent\"><img src=\"https://colab.research.google.com/assets/colab-badge.svg\" alt=\"Open In Colab\"/></a>"
      ]
    },
    {
      "cell_type": "markdown",
      "source": [
        "### Stack"
      ],
      "metadata": {
        "id": "6lnF0TsEuc__"
      }
    },
    {
      "cell_type": "code",
      "execution_count": 21,
      "metadata": {
        "id": "cL3ByoMrp6E1"
      },
      "outputs": [],
      "source": [
        "class Stack:\n",
        "  def __init__(self):\n",
        "    self.items = []\n",
        "  \n",
        "  def is_empty(self):\n",
        "    return self.items == []\n",
        "  \n",
        "  def push(self, item):\n",
        "    self.items.append(item)\n",
        "  \n",
        "  def pop(self):\n",
        "    if(len(self.items)==0):\n",
        "      print(\"Stack Kosong\")\n",
        "    else :\n",
        "      return self.items.pop()\n",
        "  \n",
        "  def peek(self):\n",
        "    return self.items[len(self.items)-1]\n",
        "  \n",
        "  def size(self):\n",
        "    return len(self.items)"
      ]
    },
    {
      "cell_type": "code",
      "source": [
        "# Membuat Object Stack s\n",
        "s = Stack()\n",
        "\n",
        "# Mengecek Isi Stack\n",
        "print(\"Apakah stack s kosong ? \",s.is_empty())\n",
        "\n",
        "# Menambahkan data\n",
        "s.push(\"kardus a\")\n",
        "s.push(\"kardus b\")\n",
        "print(\"Isi Stack s setelah push:\", s.items)\n",
        "s.push(\"kardus c\")\n",
        "print(\"Isi Stack s setelah push :\", s.items)\n",
        "\n",
        "# Menghapus data\n",
        "s.pop()\n",
        "print(\"Isi Stack s setelah operasi pop :\",s.items)\n",
        "\n",
        "print(\"Jumlah item dalam stack\", s.size())\n",
        "\n",
        "# Melihat data pada tumpukan teratas\n",
        "print(\"Data pada tumpukan teratas :\", s.peek())\n",
        "print(\"Isi Stack s setelah operasi peek :\",s.items)\n",
        "\n",
        "# Pop 3 kali\n",
        "s.pop()\n",
        "print(\"Isi Stack s setelah operasi pop :\",s.items)\n",
        "s.pop()\n",
        "print(\"Isi Stack s setelah operasi pop :\",s.items)\n",
        "s.pop()\n",
        "print(\"Isi Stack s setelah operasi pop :\",s.items)"
      ],
      "metadata": {
        "colab": {
          "base_uri": "https://localhost:8080/"
        },
        "id": "SYTMl275ubqI",
        "outputId": "47d8b373-11d4-4426-9ae2-8094a8121edc"
      },
      "execution_count": 50,
      "outputs": [
        {
          "output_type": "stream",
          "name": "stdout",
          "text": [
            "Apakah stack s kosong ?  True\n",
            "Isi Stack s setelah push: ['kardus a', 'kardus b']\n",
            "Isi Stack s setelah push : ['kardus a', 'kardus b', 'kardus c']\n",
            "Isi Stack s setelah operasi pop : ['kardus a', 'kardus b']\n",
            "Jumlah item dalam stack 2\n",
            "Data pada tumpukan teratas : kardus b\n",
            "Isi Stack s setelah operasi peek : ['kardus a', 'kardus b']\n",
            "Isi Stack s setelah operasi pop : ['kardus a']\n",
            "Isi Stack s setelah operasi pop : []\n",
            "Stack Kosong\n",
            "Isi Stack s setelah operasi pop : []\n"
          ]
        }
      ]
    },
    {
      "cell_type": "code",
      "source": [
        ""
      ],
      "metadata": {
        "id": "VfF561P5unTh"
      },
      "execution_count": null,
      "outputs": []
    }
  ]
}